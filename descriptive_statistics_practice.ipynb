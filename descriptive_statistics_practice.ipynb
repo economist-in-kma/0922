{
  "nbformat": 4,
  "nbformat_minor": 0,
  "metadata": {
    "colab": {
      "name": "descriptive_statistics_practice.ipynb",
      "provenance": [],
      "collapsed_sections": []
    },
    "kernelspec": {
      "name": "python3",
      "display_name": "Python 3"
    }
  },
  "cells": [
    {
      "cell_type": "markdown",
      "metadata": {
        "id": "p-fPmMGia4Og",
        "colab_type": "text"
      },
      "source": [
        "## **Descriptive Statistics**"
      ]
    },
    {
      "cell_type": "markdown",
      "metadata": {
        "id": "V5EzD75xZ71L",
        "colab_type": "text"
      },
      "source": [
        "# **Measure of Central Tendency**"
      ]
    },
    {
      "cell_type": "markdown",
      "metadata": {
        "id": "6EwvXhxG3Smp",
        "colab_type": "text"
      },
      "source": [
        "파이썬은 그 자체로는 아주 기본적인 기능을 제공하므로 그러한 기본 기능으로만 프로그램을 짜기에는 너무나 많은 노력을 필요로 합니다.\n",
        "\n",
        "그러나 '거인의 어깨 위에 올라선다'는 표현이 있듯이 다른 사람들이 이미 만들어둔 파이썬 프로그램을 활용하면 코딩이 한결 편리해집니다.\n",
        "\n",
        "\n",
        "여기에서도 다른 사람들이 만들어둔 프로그램인 numpy와 pandas, matplotlib, seaborn을 활용할 것입니다."
      ]
    },
    {
      "cell_type": "code",
      "metadata": {
        "id": "lzHEnassa3dX",
        "colab_type": "code",
        "colab": {}
      },
      "source": [
        "import numpy as np  \n",
        "import pandas as pd\n",
        "from matplotlib import pyplot as plt\n",
        "\n",
        "\n",
        "nk_missiles = pd.read_csv('/content/nkmissile.csv')\n"
      ],
      "execution_count": 48,
      "outputs": []
    },
    {
      "cell_type": "markdown",
      "metadata": {
        "id": "mAFklhOu4TBp",
        "colab_type": "text"
      },
      "source": [
        "*   numpy를 가져오되, 그 이름을 앞으로는 np라고 부르기로 합니다. numpy 프로그램 속의 함수를 활용할 때마다 numpy를 언급해줘야 하는데 np라고 부르면 더 짧아서 편리하기 때문입니다.\n",
        "*   pandas도 불러온 뒤, pd라고 부르기로 합니다.\n",
        "* matplotlib은 너무 큰 프로그램이라서 그 중에서도 pyplot이라는 프로그램만 가져오기로 합니다. plt라고 부르기로 합시다.\n",
        "\n",
        "* 참고로 np, pd, plt로 부를 의무는 없습니다. 원하시는 다른 이름을 붙이셔도 좋습니다.\n",
        "\n",
        "\n",
        "\n",
        "\n",
        "> numpy는 리스트([1, 2, 3]과 같은 것)끼리의 연산을 다룰 때 편리하고 (가령, 1, 2, 3의 평균이나 표준편차 계산 등)\n",
        "\n",
        "\n",
        "\n",
        "> pandas는 파이썬의 엑셀과 같아서 표로 정리할 수 있는 데이터를 다루는 데에 좋으며,\n",
        "\n",
        "\n",
        "\n",
        "> pyplot이나 나중에서 뒤에서 보시게 될 seaborn은 데이터로 그림을 그릴 때 사용합니다.\n",
        "\n",
        "\n",
        "\n",
        "\n",
        "\n"
      ]
    },
    {
      "cell_type": "markdown",
      "metadata": {
        "id": "SPE9kX-h5Wiw",
        "colab_type": "text"
      },
      "source": [
        "\n",
        "\n",
        "*   **pd.read_csv** : pandas 속의 read_csv 함수를 활용해서 지정된 경로 속의 csv(comma-separated values) 파일을 읽어들입니다. (참고: csv 파일을 엑셀로도 열어보시고, 메모장으로도 열어보십시오.)\n",
        "*   읽어들인 결과를 nk_missile이라는 이름으로 저장해둡니다.\n",
        "\n"
      ]
    },
    {
      "cell_type": "code",
      "metadata": {
        "id": "B1v8mw1Be0Vy",
        "colab_type": "code",
        "colab": {}
      },
      "source": [
        "nk_missiles.tail()"
      ],
      "execution_count": null,
      "outputs": []
    },
    {
      "cell_type": "markdown",
      "metadata": {
        "id": "2QwU7-wd6jrC",
        "colab_type": "text"
      },
      "source": [
        "제대로 읽어들였는지 확인해보기 위해서 nk_missiles를 한 번 봅니다.\n",
        "\n",
        "\n",
        "그런데 표가 너무 클 수 있어서 (실제로 한 화면에 출력하기에는 큽니다) 꼬리 부분만 봅니다. (머리 부분을 보려면 head를 입력합니다.)"
      ]
    },
    {
      "cell_type": "code",
      "metadata": {
        "id": "9g_8LSMXjTsc",
        "colab_type": "code",
        "colab": {}
      },
      "source": [
        "filtered_nk_missiles = nk_missiles[nk_missiles['Distance Travelled'].notnull()]"
      ],
      "execution_count": 49,
      "outputs": []
    },
    {
      "cell_type": "markdown",
      "metadata": {
        "id": "MIpbwsPZ7D4F",
        "colab_type": "text"
      },
      "source": [
        "\n",
        "* 오늘은 'Distance Travelled' 칼럼을 볼 것입니다. 즉 미사일의 이동 거리만을 분석해보고자 합니다. 참고로 pandas에서는 대괄호를 통해서 칼럼을 지정해줍니다.\n",
        "\n",
        "*  'Distance Travelled' 칼럼에서 결측치(없는 값)로 나타나는 미사일은 분석 대상에서 제외하여 새로운 표를 만듭니다.\n",
        "\n",
        "* 구글 검색(검색어: \"select not nan rows pandas\")에서 찾은 명령어입니다.\n",
        "\n",
        "https://stackoverflow.com/questions/22551403/python-pandas-filtering-out-nan-from-a-data-selection-of-a-column-of-strings \n",
        " \n"
      ]
    },
    {
      "cell_type": "code",
      "metadata": {
        "id": "MI05OEAZkOYc",
        "colab_type": "code",
        "colab": {}
      },
      "source": [
        "filtered_nk_missiles['Distance Travelled'] = filtered_nk_missiles['Distance Travelled'].astype(float)"
      ],
      "execution_count": null,
      "outputs": []
    },
    {
      "cell_type": "markdown",
      "metadata": {
        "id": "1IrQyzI493c3",
        "colab_type": "text"
      },
      "source": [
        "이동거리가 숫자로 표시되어 있는 것 같지만, 평균을 구하고 그러려고 해보니깐 에러가 뜨는 겁니다. 그 이유는 역시 해당 정보가 숫자가 아닌 문자(활자)의 형태로 인식이 되고 있기 때문이었습니다.\n",
        "\n",
        "그래서 문자(활자)를 숫자(float)로 (이른바 자료형-data type-을) 바꿔주고자 위와 같은 작업을 하는 것입니다.\n",
        "\n",
        "*   물론, 위의 코드도 구글링(검색어: pandas string to float)으로 찾았습니다.\n",
        "https://datatofish.com/convert-string-to-float-dataframe/"
      ]
    },
    {
      "cell_type": "code",
      "metadata": {
        "id": "jVNsskdMeyyG",
        "colab_type": "code",
        "colab": {}
      },
      "source": [
        "distances = filtered_nk_missiles['Distance Travelled']"
      ],
      "execution_count": 7,
      "outputs": []
    },
    {
      "cell_type": "code",
      "metadata": {
        "id": "aYsk7VaBiCuT",
        "colab_type": "code",
        "colab": {}
      },
      "source": [
        "distances"
      ],
      "execution_count": null,
      "outputs": []
    },
    {
      "cell_type": "markdown",
      "metadata": {
        "id": "F7I1yx27_rJN",
        "colab_type": "text"
      },
      "source": [
        "미사일들의 이동거리들을 distances라는 이름으로 저장하고 그 결과를 한 번 확인해봅니다."
      ]
    },
    {
      "cell_type": "code",
      "metadata": {
        "id": "yCPoaBAJqmID",
        "colab_type": "code",
        "colab": {}
      },
      "source": [
        "distances.describe()"
      ],
      "execution_count": null,
      "outputs": []
    },
    {
      "cell_type": "markdown",
      "metadata": {
        "id": "OR33BgnK_zQj",
        "colab_type": "text"
      },
      "source": [
        "요약 통계를 확인합니다. \"Descriptive\" statistics입니다."
      ]
    },
    {
      "cell_type": "code",
      "metadata": {
        "id": "ZIXO-fvfiBMA",
        "colab_type": "code",
        "colab": {}
      },
      "source": [
        "mean_distance = np.mean(distances)\n",
        "median_distance = np.median(distances)\n",
        "mode_distance=filtered_nk_missiles['Distance Travelled'].mode().iat[0]\n",
        "\n",
        "print(mean_distance)\n",
        "print(median_distance)\n",
        "\n",
        "# Plot the figure\n",
        "plt.hist(distances, bins = 10, edgecolor='black')\n",
        "plt.title(\"Travelled Distances of North Korean Missile Tests\")\n",
        "plt.xlabel(\"Distances (km)\")\n",
        "plt.ylabel(\"Count\")\n",
        "plt.axvline(mean_distance, color='r', linestyle='solid', linewidth=2, label=\"Mean\")\n",
        "plt.axvline(median_distance, color='y', linestyle='solid', linewidth=2, label=\"Median\")\n",
        "plt.axvline(mode_distance, color='lightgreen', linestyle='solid', linewidth=2, label=\"Mode\")\n",
        "\n",
        "plt.legend()   \n",
        "\n",
        "plt.show()"
      ],
      "execution_count": null,
      "outputs": []
    },
    {
      "cell_type": "markdown",
      "metadata": {
        "id": "ZTo_tUT9_7BT",
        "colab_type": "text"
      },
      "source": [
        "\n",
        "\n",
        "*   **np.mean(distances)** : 미사일들의 이동거리들에서 평균을 구합니다. numpy 속의 mean 함수를 사용했습니다.\n",
        "*   **np.median(distances)** : 중앙값, 중간값을 구합니다. numpy의 도움을 받았습니다.\n",
        "\n",
        "* **plt.hist**: 등간격 10칸(bins)으로 구분된 히스토그램을 그립니다. 이동거리들의 도수(freqeuncy)를 나타냅니다. 테두리를 검정색(black)으로 칠합니다. 이런 옵션들은 역시 구글링이나 plt(pyplot)의 공식 홈페이지에서 찾고 적용합니다.\n",
        "\n",
        "* **plt.title**: 제목을 답니다.\n",
        "* **plt.xlabel** : x 축에 이름을 답니다.\n",
        "* **plt.ylabel** : y 축에 이름을 답니다.\n",
        "\n",
        "* **plt.axvline** : 직선을 그려줍니다. 평균(mean_distance라고 아까 이름을 붙였던 값)을 표시하는 직선을 그릴 것입니다. 색깔은 빨간색, 두께는 2, 표시는 'Mean'으로 해줍니다. 직선 스타일은 solid라는 것으로 해보았습니다. 이런 옵션들 또한 구글링이나 plt 공식 홈페이지에서 찾습니다.\n",
        "\n",
        "* 참고로 위의 axvline 함수 또한 구글링으로 찾은 것입니다.\n",
        "(구글 검색어: pyplot draw straight line)\n",
        "https://stackoverflow.com/questions/12864294/adding-an-arbitrary-line-to-a-matplotlib-plot-in-ipython-notebook\n",
        "\n",
        "* **plt.legend()**: axvline 함수를 쓰면서 범례(\"Mean\"과 \"Median\")를 적었는데, 범례를 의미하는 legend 함수를 다시 한 번 적어줘야 완료가 됩니다. (나중에 데이터 시각화 시간에 다룰 예정이니 지금은 넘어가셔도 좋습니다.)\n",
        "\n",
        "* **plt.show()**: 그림을 컴퓨터의 화면으로 출력해줍니다.\n",
        "\n",
        "\n"
      ]
    },
    {
      "cell_type": "code",
      "metadata": {
        "id": "1Aivqg17lWKT",
        "colab_type": "code",
        "colab": {}
      },
      "source": [
        "mean_distance = np.mean(distances)\n",
        "median_distance = np.median(distances)\n",
        "first_quarter = np.percentile(distances, 25)\n",
        "third_quarter = np.percentile(distances, 75)\n",
        "\n",
        "print(mean_distance)\n",
        "print(median_distance)\n",
        "print(first_quarter)\n",
        "print(third_quarter)\n",
        "\n",
        "# Plot the figure\n",
        "plt.hist(distances, bins = 30, edgecolor='black')\n",
        "plt.title(\"Travelled Distances of North Korean Missile Tests\")\n",
        "plt.xlabel(\"Distances (km)\")\n",
        "plt.ylabel(\"Count\")\n",
        "plt.axvline(mean_distance, color='r', linestyle='solid', linewidth=2, label=\"Mean\")\n",
        "plt.axvline(median_distance, color='y', linestyle='solid', linewidth=2, label=\"Median\")\n",
        "plt.axvline(first_quarter, color='lawngreen', linestyle='solid', linewidth=2, label=\"25th Percentile\")\n",
        "plt.axvline(third_quarter, color='magenta', linestyle='solid', linewidth=2, label=\"75th Percentile\")\n",
        "\n",
        "plt.legend()\n",
        "\n",
        "plt.show()"
      ],
      "execution_count": null,
      "outputs": []
    },
    {
      "cell_type": "markdown",
      "metadata": {
        "id": "_H1EcBO2ByEd",
        "colab_type": "text"
      },
      "source": [
        "\n",
        "\n",
        "*   **np.percentile** : numpy의 도움을 받아서 분위수를 구합니다.\n",
        "*   또 그걸 다시 실선으로 그려줍니다.\n",
        "\n"
      ]
    },
    {
      "cell_type": "code",
      "metadata": {
        "id": "21dkaF-MxLVw",
        "colab_type": "code",
        "colab": {}
      },
      "source": [
        "plt.boxplot(distances, vert=0)\n",
        "\n",
        "plt.xlabel('Distance Travelled (km)')\n",
        "plt.ylabel('NK Missiles')\n",
        "plt.title('Travelled Distances of Tested North Korean Missiles')\n",
        "\n",
        "plt.yticks([])\n",
        "\n",
        "\n",
        "plt.show()"
      ],
      "execution_count": null,
      "outputs": []
    },
    {
      "cell_type": "markdown",
      "metadata": {
        "id": "BYObvDDzDWCI",
        "colab_type": "text"
      },
      "source": [
        "* plt.yticks([ ]) : 이 코드가 없을 경우와 비교해보시면 용도를 파악하실 수 있습니다. 이 역시 구글링(검색어: remove y tick labels matplotlib)으로 찾은 것입니다.\n",
        "\n",
        "https://stackoverflow.com/questions/2176424/hiding-axis-text-in-matplotlib-plots"
      ]
    },
    {
      "cell_type": "code",
      "metadata": {
        "id": "M_wPj_t-J_UY",
        "colab_type": "code",
        "colab": {}
      },
      "source": [
        "filtered_nk_missiles.sort_values(by='Distance Travelled', ascending=False).head()"
      ],
      "execution_count": null,
      "outputs": []
    },
    {
      "cell_type": "markdown",
      "metadata": {
        "id": "HKSYVmhjKlH7",
        "colab_type": "text"
      },
      "source": [
        "\n",
        "\n",
        "*   **아웃라이어 1**: 117번째 미사일. 2017년 9월 14일(미국시간)에 발사한 화성 12호. (*3700km*)\n",
        "*   **아웃라이어 2**: 116번째 미사일. 2017년 8월 28일(미국시간)에 발사한 화성 12호. (*2700km*)\n",
        "*   **아웃라이어 3**: 16번째 미사일. 1998년 8월 31일(미국시간)에 발사한 대포동 1호. (*1380km*)\n",
        "\n"
      ]
    },
    {
      "cell_type": "markdown",
      "metadata": {
        "id": "CzsaMHQTMRbH",
        "colab_type": "text"
      },
      "source": [
        "# **화성 12호**"
      ]
    },
    {
      "cell_type": "markdown",
      "metadata": {
        "id": "u3dZJb8iLkou",
        "colab_type": "text"
      },
      "source": [
        "![화성12.jpg](data:image/jpeg;base64,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)"
      ]
    },
    {
      "cell_type": "markdown",
      "metadata": {
        "id": "5xhEIkqRNAAy",
        "colab_type": "text"
      },
      "source": [
        "https://missilethreat.csis.org/missile/hwasong-12/"
      ]
    },
    {
      "cell_type": "markdown",
      "metadata": {
        "id": "kSLursfXaD2N",
        "colab_type": "text"
      },
      "source": [
        "# **Measure of Dispersion**"
      ]
    },
    {
      "cell_type": "code",
      "metadata": {
        "id": "C5LFRtj_aFVB",
        "colab_type": "code",
        "colab": {}
      },
      "source": [
        "distances.describe()"
      ],
      "execution_count": null,
      "outputs": []
    },
    {
      "cell_type": "code",
      "metadata": {
        "id": "hQhFascRagKJ",
        "colab_type": "code",
        "colab": {}
      },
      "source": [
        "distances.std()"
      ],
      "execution_count": null,
      "outputs": []
    },
    {
      "cell_type": "code",
      "metadata": {
        "id": "WlC0UNQ-bxR3",
        "colab_type": "code",
        "colab": {}
      },
      "source": [
        "IQR = np.percentile(distances, 75) - np.percentile(distances, 25)"
      ],
      "execution_count": 17,
      "outputs": []
    },
    {
      "cell_type": "code",
      "metadata": {
        "id": "hKQ26BEHcAMt",
        "colab_type": "code",
        "colab": {}
      },
      "source": [
        "print(IQR)"
      ],
      "execution_count": null,
      "outputs": []
    },
    {
      "cell_type": "code",
      "metadata": {
        "id": "nA7xUeUncJK1",
        "colab_type": "code",
        "colab": {}
      },
      "source": [
        "distances.var()"
      ],
      "execution_count": null,
      "outputs": []
    },
    {
      "cell_type": "code",
      "metadata": {
        "id": "Ctobxd8McUOG",
        "colab_type": "code",
        "colab": {}
      },
      "source": [
        "np.sqrt(distances.var())"
      ],
      "execution_count": null,
      "outputs": []
    },
    {
      "cell_type": "code",
      "metadata": {
        "id": "PuCbL-qEcWUE",
        "colab_type": "code",
        "colab": {}
      },
      "source": [
        "one_right = distances.mean()+distances.std()\n",
        "one_left = distances.mean()-distances.std()\n",
        "\n",
        "print(one_right)\n",
        "print(distances.mean())\n",
        "print(one_left)\n",
        "\n",
        "# Plot the figure\n",
        "plt.hist(distances, bins = 10, edgecolor='black')\n",
        "plt.title(\"Travelled Distances of North Korean Missile Tests\")\n",
        "plt.xlabel(\"Distances (km)\")\n",
        "plt.ylabel(\"Count\")\n",
        "plt.axvline(one_right, color='r', linestyle='solid', linewidth=2, label=\"One SD Right\")\n",
        "plt.axvline(mean_distance, color='orange', linestyle='solid', linewidth=2, label=\"Mean\")\n",
        "plt.axvline(one_left, color='y', linestyle='solid', linewidth=2, label=\"One SD Left\")\n",
        "\n",
        "plt.legend()\n",
        "\n",
        "plt.show()"
      ],
      "execution_count": null,
      "outputs": []
    },
    {
      "cell_type": "code",
      "metadata": {
        "id": "auUGkAqudDYQ",
        "colab_type": "code",
        "colab": {}
      },
      "source": [
        "one_right = distances.mean()+distances.std()\n",
        "one_left = distances.mean()-distances.std()\n",
        "\n",
        "print(one_right)\n",
        "print(distances.mean())\n",
        "print(one_left)\n",
        "\n",
        "# Plot the figure\n",
        "plt.hist(distances, bins = 30, edgecolor='black')\n",
        "plt.title(\"Travelled Distances of North Korean Missile Tests\")\n",
        "plt.xlabel(\"Distances (km)\")\n",
        "plt.ylabel(\"Count\")\n",
        "plt.axvline(one_right, color='r', linestyle='solid', linewidth=2, label=\"One SD Right\")\n",
        "plt.axvline(one_left, color='r', linestyle='solid', linewidth=2, label=\"One SD Left\")\n",
        "\n",
        "plt.legend()\n",
        "\n",
        "plt.show()"
      ],
      "execution_count": null,
      "outputs": []
    },
    {
      "cell_type": "code",
      "metadata": {
        "id": "5L1TUZaXdGoM",
        "colab_type": "code",
        "colab": {}
      },
      "source": [
        "one_right = distances.mean()+distances.std()\n",
        "one_left = distances.mean()-distances.std()\n",
        "\n",
        "print(one_right)\n",
        "print(distances.mean())\n",
        "print(one_left)\n",
        "\n",
        "# Plot the figure\n",
        "plt.hist(distances, bins = 70, edgecolor='black')\n",
        "plt.title(\"Travelled Distances of North Korean Missile Tests\")\n",
        "plt.xlabel(\"Distances (km)\")\n",
        "plt.ylabel(\"Count\")\n",
        "plt.axvline(one_right, color='r', linestyle='solid', linewidth=2, label=\"One SD Right\")\n",
        "plt.axvline(one_left, color='r', linestyle='solid', linewidth=2, label=\"One SD Left\")\n",
        "\n",
        "plt.legend()\n",
        "\n",
        "plt.show()"
      ],
      "execution_count": null,
      "outputs": []
    },
    {
      "cell_type": "code",
      "metadata": {
        "id": "VFuuQrwkdJPY",
        "colab_type": "code",
        "colab": {}
      },
      "source": [
        "one_right = distances.mean()+distances.std()\n",
        "one_left = distances.mean()-distances.std()\n",
        "\n",
        "print(one_right)\n",
        "print(distances.mean())\n",
        "print(one_left)\n",
        "\n",
        "# Plot the figure\n",
        "plt.hist(distances, bins = 70, edgecolor='black')\n",
        "plt.title(\"Travelled Distances of North Korean Missile Tests\")\n",
        "plt.xlabel(\"Distances (km)\")\n",
        "plt.ylabel(\"Count\")\n",
        "plt.axvline(one_right, color='r', linestyle='solid', linewidth=2, label=\"One SD Right\")\n",
        "plt.axvline(one_left, color='r', linestyle='solid', linewidth=2, label=\"One SD Left\")\n",
        "plt.axvline(first_quarter, color='lawngreen', linestyle='solid', linewidth=2, label=\"25th Percentile\")\n",
        "plt.axvline(third_quarter, color='lawngreen', linestyle='solid', linewidth=2, label=\"75th Percentile\")\n",
        "plt.legend()\n",
        "\n",
        "plt.show()"
      ],
      "execution_count": null,
      "outputs": []
    },
    {
      "cell_type": "code",
      "metadata": {
        "id": "9fHY8C212G6o",
        "colab_type": "code",
        "colab": {}
      },
      "source": [
        "import seaborn as sns\n",
        "\n",
        "sns.swarmplot(distances)\n",
        "sns.boxplot(distances, color='seashell')\n",
        "\n",
        "plt.xlabel('Distance Travelled (km)')\n",
        "plt.ylabel('NK Missiles')\n",
        "plt.title('Travelled Distances of Tested North Korean Missiles')\n",
        "\n",
        "plt.yticks([])\n",
        "\n",
        "\n",
        "plt.show()"
      ],
      "execution_count": null,
      "outputs": []
    },
    {
      "cell_type": "markdown",
      "metadata": {
        "id": "2wzw9wuZZgxj",
        "colab_type": "text"
      },
      "source": [
        "\n",
        "*   Box Plot을 더 예쁘게 그리고 또 그 위에 데이터를 점 찍듯이 나열해보려면, **Seaborn**이라는 새로운 패키지를 씁니다. (Pyplot보다 한 단계 더 발전된 패키지라고 보셔도 좋습니다.)\n",
        "*  **Swarm Plot** : 데이터를 중첩되지 않게 그림으로 그 분포를 나타냅니다.\n",
        "\n"
      ]
    },
    {
      "cell_type": "markdown",
      "metadata": {
        "id": "GSvXVBW4eitJ",
        "colab_type": "text"
      },
      "source": [
        "## **Probability Density Function**"
      ]
    },
    {
      "cell_type": "code",
      "metadata": {
        "id": "eW4xbrq3ejsB",
        "colab_type": "code",
        "colab": {}
      },
      "source": [
        "pdf = distances.plot.kde(label='')\n",
        "\n",
        "plt.axvline(mean_distance, color='r', linestyle='solid', linewidth=2, label=\"Mean\")\n",
        "plt.axvline(median_distance, color='y', linestyle='solid', linewidth=2, label=\"Median\")\n",
        "plt.axvline(mode_distance, color='b', linestyle='solid', linewidth=2, label=\"Mode\")\n",
        "\n",
        "plt.title(\"PDF of Distances Travelled of NK Missiles\")\n",
        "plt.xlabel('Distances (km)')\n",
        "\n",
        "plt.legend()\n",
        "plt.show()"
      ],
      "execution_count": null,
      "outputs": []
    }
  ]
}